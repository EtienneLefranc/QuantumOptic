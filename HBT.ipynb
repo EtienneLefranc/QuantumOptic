{
 "cells": [
  {
   "cell_type": "markdown",
   "metadata": {},
   "source": [
    "# Hanbury-Brown-Twiss effect\n",
    "\n"
   ]
  },
  {
   "cell_type": "markdown",
   "metadata": {},
   "source": [
    "We try to simulate noise related to purity and brightness. "
   ]
  },
  {
   "cell_type": "code",
   "execution_count": null,
   "metadata": {},
   "outputs": [
    {
     "ename": "",
     "evalue": "",
     "output_type": "error",
     "traceback": [
      "\u001b[1;31mÉchec du démarrage du noyau. \n",
      "\u001b[1;31mImpossible de démarrer le noyau 'base (Python 3.9.13)' en raison du délai d’expiration de la connexion. \n",
      "\u001b[1;31mPour plus d’informations, consultez Jupyter <a href='command:jupyter.viewOutput'>log</a>."
     ]
    }
   ],
   "source": [
    "import perceval as pcvl\n",
    "import perceval.components.unitary_components as comp\n",
    "print(pcvl.__version__)\n",
    "import numpy as np\n",
    "import math\n",
    "import sympy as sp\n",
    "\n",
    "st1,st2,st3=pcvl.BasicState([0,1,1,0]),pcvl.BasicState([1,0,1,0]),pcvl.BasicState([1,0,0,1])\n",
    "State=pcvl.StateVector.normalize(3*st1+2*np.sqrt(2)*st2+2*np.sqrt(2)*st3)\n",
    "#pcvl.StateVector.normalize(State)\n",
    "#state=(3*pcvl.BasicState([0,1,1,0]))\n",
    "#print(state)\n",
    "print(State)"
   ]
  },
  {
   "cell_type": "markdown",
   "metadata": {},
   "source": [
    "We calculate $g^{(2)}(0)=\\frac{\\braket{\\Psi,0|\\hat{n}_{3}\\hat{n}_{4}|\\Psi,0}}{\\braket{\\Psi,0|\\hat{n}_{3}|\\Psi,0}\\braket{\\Psi,0|\\hat{n}_{4}|\\Psi,0}}$"
   ]
  },
  {
   "cell_type": "code",
   "execution_count": null,
   "metadata": {},
   "outputs": [
    {
     "ename": "",
     "evalue": "",
     "output_type": "error",
     "traceback": [
      "\u001b[1;31mÉchec du démarrage du noyau. \n",
      "\u001b[1;31mImpossible de démarrer le noyau 'base (Python 3.9.13)' en raison du délai d’expiration de la connexion. \n",
      "\u001b[1;31mPour plus d’informations, consultez Jupyter <a href='command:jupyter.viewOutput'>log</a>."
     ]
    }
   ],
   "source": [
    "def g20_after_circuit(input_state):\n",
    "    numerator=0\n",
    "    denominator1=0\n",
    "    denominator2=0\n",
    "    circuit=pcvl.Circuit(2)\n",
    "    circuit.add((0,1),comp.BS())\n",
    "    slos_backend = pcvl.BackendFactory().get_backend(\"SLOS\")\n",
    "    s = slos_backend(circuit.U,use_symbolic=False)\n",
    "    for o, p in s.allstateprob_iterator(input_state):\n",
    "        numerator+=p*o[0]*o[1]\n",
    "        denominator1+=p*o[0]\n",
    "        denominator2+=p*o[1]\n",
    "    return numerator/(denominator1*denominator2)"
   ]
  },
  {
   "cell_type": "markdown",
   "metadata": {},
   "source": [
    "We calculate a coherent state distribution $$\\ket{\\alpha}$$ following a Poisson law of parameter $$\\alpha$$"
   ]
  },
  {
   "cell_type": "code",
   "execution_count": null,
   "metadata": {},
   "outputs": [
    {
     "ename": "",
     "evalue": "",
     "output_type": "error",
     "traceback": [
      "\u001b[1;31mÉchec du démarrage du noyau. \n",
      "\u001b[1;31mImpossible de démarrer le noyau 'base (Python 3.9.13)' en raison du délai d’expiration de la connexion. \n",
      "\u001b[1;31mPour plus d’informations, consultez Jupyter <a href='command:jupyter.viewOutput'>log</a>."
     ]
    }
   ],
   "source": [
    "def c(alpha,n):\n",
    "    return alpha**(n) /math.sqrt(math.factorial(n))\n",
    "\n",
    "def S(alpha,n):\n",
    "    e=np.exp(-0.5*alpha**2)\n",
    "    return np.sqrt(sum([(e*c(alpha,i))**2 for i in range(n)]))\n",
    "    \n",
    "def coherent_state(alpha,N):\n",
    "    e=np.exp(-0.5*alpha**2)\n",
    "    state =e* pcvl.StateVector([0,0])\n",
    "    for n in range(1,N):\n",
    "        state=S(alpha,n)*state + e*c(alpha,n) * pcvl.StateVector([n,0])\n",
    "        #print(S(alpha,n))\n",
    "    return state\n",
    "\n",
    "def coherent_state_2(alpha,N):\n",
    "    e=np.exp(-0.5*alpha**2)\n",
    "    state =e* pcvl.StateVector([0,0])\n",
    "    for n in range(1,N):\n",
    "        state=S(alpha,n)*state + e*c(alpha,n) * pcvl.StateVector([n,0])\n",
    "        #print(S(alpha,n))\n",
    "    return state\n",
    "\n",
    "def any_state(f,parameters,N):\n",
    "    s=sum([f(parameters,n) for n in range(N)])\n",
    "    state =(1/s)* pcvl.StateVector([0,0])\n",
    "    for n in range(1,N):\n",
    "        S=np.sqrt(sum([((1/s)*f(parameters,i))**2 for i in range(n)]))\n",
    "        state=S*state + (1/s)*f(parameters,n) * pcvl.StateVector([n,0])\n",
    "        #print(S(alpha,n))\n",
    "    return state\n",
    "print(coherent_state(2,40))\n",
    "print(any_state(c,2,40))"
   ]
  },
  {
   "cell_type": "code",
   "execution_count": null,
   "metadata": {},
   "outputs": [
    {
     "ename": "",
     "evalue": "",
     "output_type": "error",
     "traceback": [
      "\u001b[1;31mÉchec du démarrage du noyau. \n",
      "\u001b[1;31mImpossible de démarrer le noyau 'base (Python 3.9.13)' en raison du délai d’expiration de la connexion. \n",
      "\u001b[1;31mPour plus d’informations, consultez Jupyter <a href='command:jupyter.viewOutput'>log</a>."
     ]
    }
   ],
   "source": [
    "def bruit_gaussien(mu,sigma,N):\n",
    "    b=np.random.normal(mu,sigma,size=N)\n",
    "    s=np.sqrt(sum([b[i]**2 for i in range(N)]))\n",
    "    state=(1/s)*b[0]*pcvl.StateVector([0,0])\n",
    "    for n in range(1,N):\n",
    "        S=np.sqrt(sum([b[i]**2 for i in range(n)])/s)\n",
    "        state=S*state +(1/s)*b[n]*pcvl.StateVector([n,0])\n",
    "    return state\n",
    "\n",
    "print(bruit_gaussien(0,1,40))"
   ]
  },
  {
   "cell_type": "code",
   "execution_count": null,
   "metadata": {},
   "outputs": [
    {
     "ename": "",
     "evalue": "",
     "output_type": "error",
     "traceback": [
      "\u001b[1;31mÉchec du démarrage du noyau. \n",
      "\u001b[1;31mImpossible de démarrer le noyau 'base (Python 3.9.13)' en raison du délai d’expiration de la connexion. \n",
      "\u001b[1;31mPour plus d’informations, consultez Jupyter <a href='command:jupyter.viewOutput'>log</a>."
     ]
    }
   ],
   "source": [
    "def bruit_gaussien_2(mu,sigma,N):\n",
    "    b=np.random.normal(mu,sigma,size=N)\n",
    "    for i in range(N):\n",
    "        b[i]=abs(b[i])\n",
    "    state=(1/np.sqrt(N))*pcvl.StateVector([int(b[0]),0])\n",
    "    for n in range(1,N):\n",
    "        state=np.sqrt(n)*state+(1/np.sqrt(N))*pcvl.StateVector([int(b[n]),0])\n",
    "    return state"
   ]
  },
  {
   "cell_type": "markdown",
   "metadata": {},
   "source": [
    "**Crée un état selon une distribution arbitraire**\n",
    "\n",
    "sum_coefs(coefs,n) calcule $\\sqrt{ \\sum_{k=0}^{n-1} coefs[k] }$"
   ]
  },
  {
   "cell_type": "code",
   "execution_count": null,
   "metadata": {},
   "outputs": [
    {
     "ename": "",
     "evalue": "",
     "output_type": "error",
     "traceback": [
      "\u001b[1;31mÉchec du démarrage du noyau. \n",
      "\u001b[1;31mImpossible de démarrer le noyau 'base (Python 3.9.13)' en raison du délai d’expiration de la connexion. \n",
      "\u001b[1;31mPour plus d’informations, consultez Jupyter <a href='command:jupyter.viewOutput'>log</a>."
     ]
    }
   ],
   "source": [
    "def sum_coefs(coefs,n):\n",
    "    return math.sqrt(sum([coefs[k]**2 for k in range(n)]))\n",
    "\n",
    "def state_distrib(coefs):\n",
    "    norme_tot = sum_coefs(coefs,len(coefs))\n",
    "    state = pcvl.StateVector([0])\n",
    "    for n,c in enumerate(coefs[1:]):\n",
    "        state = sum_coefs(coefs,n+1)/norme_tot*state + c/norme_tot*pcvl.StateVector([n+1])\n",
    "    return state"
   ]
  },
  {
   "cell_type": "markdown",
   "metadata": {},
   "source": [
    "Test de la fonction state_distrib :"
   ]
  },
  {
   "cell_type": "code",
   "execution_count": null,
   "metadata": {},
   "outputs": [
    {
     "ename": "",
     "evalue": "",
     "output_type": "error",
     "traceback": [
      "\u001b[1;31mÉchec du démarrage du noyau. \n",
      "\u001b[1;31mImpossible de démarrer le noyau 'base (Python 3.9.13)' en raison du délai d’expiration de la connexion. \n",
      "\u001b[1;31mPour plus d’informations, consultez Jupyter <a href='command:jupyter.viewOutput'>log</a>."
     ]
    }
   ],
   "source": [
    "coefs = [1/2**(k/2) for k in range(1,20)]\n",
    "#print(coefs)\n",
    "\n",
    "X = state_distrib(coefs)\n",
    "print(X)"
   ]
  },
  {
   "cell_type": "code",
   "execution_count": null,
   "metadata": {},
   "outputs": [
    {
     "ename": "",
     "evalue": "",
     "output_type": "error",
     "traceback": [
      "\u001b[1;31mÉchec du démarrage du noyau. \n",
      "\u001b[1;31mImpossible de démarrer le noyau 'base (Python 3.9.13)' en raison du délai d’expiration de la connexion. \n",
      "\u001b[1;31mPour plus d’informations, consultez Jupyter <a href='command:jupyter.viewOutput'>log</a>."
     ]
    }
   ],
   "source": [
    "input_state = pcvl.BasicState(\"|1,1>\")\n",
    "N=40\n",
    "alpha=2\n",
    "print(coherent_state(alpha,N))\n",
    "print(g20_after_circuit(input_state))\n",
    "print(g20_after_circuit(coherent_state(alpha,N)))\n",
    "state=5*pcvl.StateVector([1,1])+coherent_state(np.sqrt(4),40)\n",
    "print(g20_after_circuit(state))"
   ]
  },
  {
   "cell_type": "code",
   "execution_count": null,
   "metadata": {},
   "outputs": [
    {
     "ename": "",
     "evalue": "",
     "output_type": "error",
     "traceback": [
      "\u001b[1;31mÉchec du démarrage du noyau. \n",
      "\u001b[1;31mImpossible de démarrer le noyau 'base (Python 3.9.13)' en raison du délai d’expiration de la connexion. \n",
      "\u001b[1;31mPour plus d’informations, consultez Jupyter <a href='command:jupyter.viewOutput'>log</a>."
     ]
    }
   ],
   "source": [
    "input_state = pcvl.BasicState(\"|1,1>\")\n",
    "N=6\n",
    "sigma=1\n",
    "b=bruit_gaussien(0,sigma,N)\n",
    "print(b)\n",
    "print(g20_after_circuit(input_state))\n",
    "print(g20_after_circuit(b))\n",
    "state=10*pcvl.StateVector([1,1])+b\n",
    "print(g20_after_circuit(state))"
   ]
  },
  {
   "cell_type": "code",
   "execution_count": null,
   "metadata": {},
   "outputs": [
    {
     "ename": "",
     "evalue": "",
     "output_type": "error",
     "traceback": [
      "\u001b[1;31mÉchec du démarrage du noyau. \n",
      "\u001b[1;31mImpossible de démarrer le noyau 'base (Python 3.9.13)' en raison du délai d’expiration de la connexion. \n",
      "\u001b[1;31mPour plus d’informations, consultez Jupyter <a href='command:jupyter.viewOutput'>log</a>."
     ]
    }
   ],
   "source": [
    "input_state = pcvl.BasicState(\"|1,1>\")\n",
    "N=50\n",
    "sigma=2\n",
    "b=bruit_gaussien_2(0,sigma,N)\n",
    "print(b)\n",
    "print(g20_after_circuit(input_state))\n",
    "print(g20_after_circuit(b))\n",
    "state=10*pcvl.StateVector([1,1])+b\n",
    "print(g20_after_circuit(state))"
   ]
  },
  {
   "cell_type": "code",
   "execution_count": null,
   "metadata": {},
   "outputs": [
    {
     "ename": "",
     "evalue": "",
     "output_type": "error",
     "traceback": [
      "\u001b[1;31mÉchec du démarrage du noyau. \n",
      "\u001b[1;31mImpossible de démarrer le noyau 'base (Python 3.9.13)' en raison du délai d’expiration de la connexion. \n",
      "\u001b[1;31mPour plus d’informations, consultez Jupyter <a href='command:jupyter.viewOutput'>log</a>."
     ]
    }
   ],
   "source": [
    "#help(pcvl.Source)\n",
    "brightness,purity=1,1\n",
    "#help(pcvl.Processor)\n",
    "source=pcvl.Source(brightness,purity)\n",
    "p = pcvl.Processor(\"Naive\", comp.BS(),source)\n",
    "pcvl.pdisplay(p)\n",
    "states = {\n",
    "    pcvl.BasicState([1, 0, 1, 0]): \"00\",\n",
    "    pcvl.BasicState([1, 0, 0, 1]): \"01\",\n",
    "    pcvl.BasicState([0, 1, 1, 0]): \"10\",\n",
    "    pcvl.BasicState([0, 1, 0, 1]): \"11\"\n",
    "}\n",
    "\n",
    "ca = pcvl.algorithm.Analyzer(p, states)\n",
    "ca.compute(expected={\"00\": \"00\", \"01\": \"01\", \"10\": \"11\", \"11\": \"10\"})\n",
    "pcvl.pdisplay(ca)\n",
    "print(\"performance=%s, error rate=%.3f%%\" % (pcvl.simple_float(ca.performance)[1], ca.error_rate * 100))"
   ]
  }
 ],
 "metadata": {
  "kernelspec": {
   "display_name": "Python 3.9.13 ('base')",
   "language": "python",
   "name": "python3"
  },
  "language_info": {
   "codemirror_mode": {
    "name": "ipython",
    "version": 3
   },
   "file_extension": ".py",
   "mimetype": "text/x-python",
   "name": "python",
   "nbconvert_exporter": "python",
   "pygments_lexer": "ipython3",
   "version": "3.9.13 (main, Aug 25 2022, 23:51:50) [MSC v.1916 64 bit (AMD64)]"
  },
  "orig_nbformat": 4,
  "vscode": {
   "interpreter": {
    "hash": "e41c3951eb587a8d70f1f8e88b1be73870eccbde98eb6381db1ac44c6648a0e4"
   }
  }
 },
 "nbformat": 4,
 "nbformat_minor": 2
}
