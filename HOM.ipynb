{
 "cells": [
  {
   "cell_type": "code",
   "execution_count": 2,
   "id": "288bf4f3",
   "metadata": {},
   "outputs": [],
   "source": [
    "import quandelibc as qc\n",
    "import perceval as pcvl\n",
    "#import perceval.lib.symb as symb\n",
    "#import perceval.lib.phys as phys\n",
    "import numpy as np\n",
    "import perceval.components as comp\n"
   ]
  },
  {
   "cell_type": "code",
   "execution_count": 3,
   "id": "da2368ff",
   "metadata": {},
   "outputs": [],
   "source": [
    "theta = np.pi/4\n",
    "gamma = np.pi/2-1e-8"
   ]
  },
  {
   "cell_type": "code",
   "execution_count": 4,
   "id": "0a567330",
   "metadata": {},
   "outputs": [],
   "source": [
    "#phi,theta=pcvl.P(\"φ\"),pcvl.P(\"θ\")\n",
    "#phi1=pcvl.P(\"φ1\")"
   ]
  },
  {
   "cell_type": "code",
   "execution_count": 5,
   "id": "d6451891",
   "metadata": {},
   "outputs": [],
   "source": [
    "phys_bs=comp.BS(theta=theta)"
   ]
  },
  {
   "cell_type": "code",
   "execution_count": 6,
   "id": "aded3833",
   "metadata": {},
   "outputs": [
    {
     "ename": "AttributeError",
     "evalue": "module 'perceval' has no attribute 'Circuit'",
     "output_type": "error",
     "traceback": [
      "\u001b[1;31m---------------------------------------------------------------------------\u001b[0m",
      "\u001b[1;31mAttributeError\u001b[0m                            Traceback (most recent call last)",
      "\u001b[1;32mc:\\Users\\elera\\Desktop\\qoptique\\HOM.ipynb Cell 5\u001b[0m in \u001b[0;36m<cell line: 1>\u001b[1;34m()\u001b[0m\n\u001b[1;32m----> <a href='vscode-notebook-cell:/c%3A/Users/elera/Desktop/qoptique/HOM.ipynb#W4sZmlsZQ%3D%3D?line=0'>1</a>\u001b[0m my_circuit \u001b[39m=\u001b[39m pcvl\u001b[39m.\u001b[39;49mCircuit(\u001b[39m2\u001b[39m)\n\u001b[0;32m      <a href='vscode-notebook-cell:/c%3A/Users/elera/Desktop/qoptique/HOM.ipynb#W4sZmlsZQ%3D%3D?line=1'>2</a>\u001b[0m my_circuit\u001b[39m.\u001b[39madd((\u001b[39m0\u001b[39m,\u001b[39m1\u001b[39m),phys_bs)\n\u001b[0;32m      <a href='vscode-notebook-cell:/c%3A/Users/elera/Desktop/qoptique/HOM.ipynb#W4sZmlsZQ%3D%3D?line=2'>3</a>\u001b[0m pcvl\u001b[39m.\u001b[39mpdisplay(my_circuit)\n",
      "\u001b[1;31mAttributeError\u001b[0m: module 'perceval' has no attribute 'Circuit'"
     ]
    }
   ],
   "source": [
    "my_circuit = pcvl.Circuit(2)\n",
    "my_circuit.add((0,1),phys_bs)\n",
    "pcvl.pdisplay(my_circuit)\n",
    "my_circuit.U"
   ]
  },
  {
   "cell_type": "code",
   "execution_count": null,
   "id": "467d696f",
   "metadata": {},
   "outputs": [],
   "source": [
    "#input_state = pcvl.BasicState(\"|1,1>\")\n",
    "#input_state = np.sqrt(2)/2*(pcvl.BasicState(\"|0,1>\")+pcvl.BasicState(\"|1,0>\"))\n",
    "#st1 = pcvl.StateVector(\"|{P:H},{P:H}>\")\n",
    "#st2 = pcvl.StateVector(\"|{P:H},{P:V}>\")\n",
    "#input_state = np.cos(gamma)*st1 + np.sin(gamma)*st2 \n",
    "\n",
    "print(input_state)\n",
    "#etat=pcvl.AnnotatedBasicState(\"|{P:H},{P:V}>\")\n",
    "#etat.has_polarization\n"
   ]
  },
  {
   "cell_type": "code",
   "execution_count": 7,
   "id": "a14bec81",
   "metadata": {},
   "outputs": [
    {
     "ename": "AttributeError",
     "evalue": "module 'perceval' has no attribute 'BackendFactory'",
     "output_type": "error",
     "traceback": [
      "\u001b[1;31m---------------------------------------------------------------------------\u001b[0m",
      "\u001b[1;31mAttributeError\u001b[0m                            Traceback (most recent call last)",
      "\u001b[1;32mc:\\Users\\elera\\Desktop\\qoptique\\HOM.ipynb Cell 7\u001b[0m in \u001b[0;36m<cell line: 1>\u001b[1;34m()\u001b[0m\n\u001b[1;32m----> <a href='vscode-notebook-cell:/c%3A/Users/elera/Desktop/qoptique/HOM.ipynb#W6sZmlsZQ%3D%3D?line=0'>1</a>\u001b[0m slos_backend \u001b[39m=\u001b[39m pcvl\u001b[39m.\u001b[39;49mBackendFactory()\u001b[39m.\u001b[39mget_backend(\u001b[39m\"\u001b[39m\u001b[39mSLOS\u001b[39m\u001b[39m\"\u001b[39m)\n\u001b[0;32m      <a href='vscode-notebook-cell:/c%3A/Users/elera/Desktop/qoptique/HOM.ipynb#W6sZmlsZQ%3D%3D?line=1'>2</a>\u001b[0m s \u001b[39m=\u001b[39m slos_backend(my_circuit\u001b[39m.\u001b[39mU,use_symbolic\u001b[39m=\u001b[39m\u001b[39mTrue\u001b[39;00m)\n\u001b[0;32m      <a href='vscode-notebook-cell:/c%3A/Users/elera/Desktop/qoptique/HOM.ipynb#W6sZmlsZQ%3D%3D?line=2'>3</a>\u001b[0m \u001b[39mfor\u001b[39;00m o, p \u001b[39min\u001b[39;00m s\u001b[39m.\u001b[39mallstateprob_iterator(input_state):\n",
      "\u001b[1;31mAttributeError\u001b[0m: module 'perceval' has no attribute 'BackendFactory'"
     ]
    }
   ],
   "source": [
    "slos_backend = pcvl.BackendFactory().get_backend(\"SLOS\")\n",
    "s = slos_backend(my_circuit.U,use_symbolic=True)\n",
    "for o, p in s.allstateprob_iterator(input_state):\n",
    "    print(o, p)"
   ]
  },
  {
   "cell_type": "code",
   "execution_count": 8,
   "id": "190609af",
   "metadata": {},
   "outputs": [],
   "source": [
    "#my_circuit.add(0,DT(0,5))"
   ]
  },
  {
   "cell_type": "code",
   "execution_count": 9,
   "id": "8c8daa65",
   "metadata": {},
   "outputs": [
    {
     "ename": "AttributeError",
     "evalue": "module 'perceval' has no attribute 'AnnotatedBasicState'",
     "output_type": "error",
     "traceback": [
      "\u001b[1;31m---------------------------------------------------------------------------\u001b[0m",
      "\u001b[1;31mAttributeError\u001b[0m                            Traceback (most recent call last)",
      "\u001b[1;32mc:\\Users\\elera\\Desktop\\qoptique\\HOM.ipynb Cell 9\u001b[0m in \u001b[0;36m<cell line: 1>\u001b[1;34m()\u001b[0m\n\u001b[1;32m----> <a href='vscode-notebook-cell:/c%3A/Users/elera/Desktop/qoptique/HOM.ipynb#X11sZmlsZQ%3D%3D?line=0'>1</a>\u001b[0m input_state \u001b[39m=\u001b[39m pcvl\u001b[39m.\u001b[39;49mAnnotatedBasicState(\u001b[39m\"\u001b[39m\u001b[39m|1,\u001b[39m\u001b[39m{t:-10.5}\u001b[39;00m\u001b[39m>\u001b[39m\u001b[39m\"\u001b[39m)\n",
      "\u001b[1;31mAttributeError\u001b[0m: module 'perceval' has no attribute 'AnnotatedBasicState'"
     ]
    }
   ],
   "source": [
    "input_state = pcvl.AnnotatedBasicState(\"|1,{t:-10.5}>\")"
   ]
  },
  {
   "cell_type": "code",
   "execution_count": null,
   "id": "b0f09c78",
   "metadata": {},
   "outputs": [],
   "source": []
  }
 ],
 "metadata": {
  "kernelspec": {
   "display_name": "Python 3.9.13 ('base')",
   "language": "python",
   "name": "python3"
  },
  "language_info": {
   "codemirror_mode": {
    "name": "ipython",
    "version": 3
   },
   "file_extension": ".py",
   "mimetype": "text/x-python",
   "name": "python",
   "nbconvert_exporter": "python",
   "pygments_lexer": "ipython3",
   "version": "3.9.13 (main, Aug 25 2022, 23:51:50) [MSC v.1916 64 bit (AMD64)]"
  },
  "vscode": {
   "interpreter": {
    "hash": "e41c3951eb587a8d70f1f8e88b1be73870eccbde98eb6381db1ac44c6648a0e4"
   }
  }
 },
 "nbformat": 4,
 "nbformat_minor": 5
}
